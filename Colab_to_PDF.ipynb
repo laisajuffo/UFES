{
  "nbformat": 4,
  "nbformat_minor": 0,
  "metadata": {
    "colab": {
      "provenance": []
    },
    "kernelspec": {
      "name": "python3",
      "display_name": "Python 3"
    },
    "language_info": {
      "name": "python"
    }
  },
  "cells": [
    {
      "cell_type": "code",
      "execution_count": null,
      "metadata": {
        "id": "qri7M_SQGXe_"
      },
      "outputs": [],
      "source": [
        "# aqui ele instala umas biblioteca interessante\n",
        "# ainda bem que eu ser ler hieróglifos! aqui diz:\n",
        "!apt-get install texlive texlive-xetex texlive-latex-extra pandoc # formatação em LaTeX, que delícia\n",
        "!pip install -qq pypandoc"
      ]
    },
    {
      "cell_type": "code",
      "source": [
        "# aqui você vai precisar dar permissão pro Colab acessar seu drive\n",
        "from google.colab import drive\n",
        "drive.mount('/content/drive')"
      ],
      "metadata": {
        "id": "3g4nkQyXGeMS"
      },
      "execution_count": null,
      "outputs": []
    },
    {
      "cell_type": "code",
      "source": [
        "# caminho do arquivo\n",
        "# você pode pegar o caminho na aba lateral do Colab, no ícone da pastinha\n",
        "# clicando lá, vá em drive e procure o arquivo\n",
        "# quando achar o arquivo, clique nos três pontos e selecine \"Copiar caminho\"\n",
        "# a sintaxe é\n",
        "# ! cp <caminho> ./\n",
        "!cp /content/drive/MyDrive/Arquivo.ipynb ./"
      ],
      "metadata": {
        "id": "jVXdzAyOGexP"
      },
      "execution_count": 8,
      "outputs": []
    },
    {
      "cell_type": "code",
      "source": [
        "# aqui o arquivo é transformado no PDF\n",
        "# a sintaxe é\n",
        "# ! jupyter npconvert --to PDF <nome do arquivo>.pdf\n",
        "# o arquivo gerado por esse método pode ser encontrado na aba lateral do Colab também\n",
        "# pode demorar um pouco para aparecer\n",
        "\n",
        "!jupyter nbconvert --to PDF \"Arquivo.ipynb\""
      ],
      "metadata": {
        "id": "LOR8UtMVGi_T"
      },
      "execution_count": null,
      "outputs": []
    }
  ]
}